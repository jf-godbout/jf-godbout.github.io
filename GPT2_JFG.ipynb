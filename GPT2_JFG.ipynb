{
  "nbformat": 4,
  "nbformat_minor": 0,
  "metadata": {
    "colab": {
      "provenance": [],
      "gpuType": "T4",
      "authorship_tag": "ABX9TyP9EEP/oAE0yCgB9Ja5weyC",
      "include_colab_link": true
    },
    "kernelspec": {
      "name": "python3",
      "display_name": "Python 3"
    },
    "language_info": {
      "name": "python"
    },
    "accelerator": "GPU"
  },
  "cells": [
    {
      "cell_type": "markdown",
      "metadata": {
        "id": "view-in-github",
        "colab_type": "text"
      },
      "source": [
        "<a href=\"https://colab.research.google.com/github/jf-godbout/jf-godbout.github.io/blob/master/GPT2_JFG.ipynb\" target=\"_parent\"><img src=\"https://colab.research.google.com/assets/colab-badge.svg\" alt=\"Open In Colab\"/></a>"
      ]
    },
    {
      "cell_type": "code",
      "source": [
        "## Installation des dépendances requises\n",
        "# Google Colab fournit une version gratuite qui inclut un accès aux GPU (unités de traitement graphique).\n",
        "# Avant d'exécuter ce code, assurez-vous que l'accélérateur matériel est bien défini sur GPU\n",
        "# (Allez dans \"Runtime\" > \"Modifier le type d'exécution\" > \"Accélérateur matériel : GPU T4).\n",
        "!pip install transformers torch"
      ],
      "metadata": {
        "id": "lCUYRt_oUoU2"
      },
      "execution_count": null,
      "outputs": []
    },
    {
      "cell_type": "code",
      "source": [
        "\n",
        "from transformers import AutoModelForCausalLM, AutoTokenizer\n",
        "import torch\n",
        "\n",
        "# Check if GPU is available\n",
        "device = \"cuda\" if torch.cuda.is_available() else \"cpu\"\n",
        "\n",
        "# Load GPT-2 model and tokenizer\n",
        "model_name = \"gpt2\"\n",
        "model = AutoModelForCausalLM.from_pretrained(model_name, torch_dtype=torch.float16).to(device)\n",
        "tokenizer = AutoTokenizer.from_pretrained(model_name)\n",
        "\n",
        "# Define prompt ICI\n",
        "prompt = \"Écrivez n'importe quoi et je vais \"\n",
        "\n",
        "# Tokenize input\n",
        "model_inputs = tokenizer(prompt, return_tensors=\"pt\").to(device)\n",
        "\n",
        "# Generate text (with padding token fix)\n",
        "generated_ids = model.generate(\n",
        "    **model_inputs,\n",
        "    temperature=.9, #temperature, voir Wolfram\n",
        "    max_new_tokens=200,  # Increased token limit\n",
        "    do_sample=True,\n",
        "    pad_token_id=tokenizer.eos_token_id  # Fixes the warning\n",
        ")\n",
        "\n",
        "# Decode and print output\n",
        "output_text = tokenizer.batch_decode(generated_ids, skip_special_tokens=True)[0]\n",
        "print(output_text)\n"
      ],
      "metadata": {
        "colab": {
          "base_uri": "https://localhost:8080/"
        },
        "id": "3wATyPxkQonW",
        "outputId": "d4871b08-7705-4974-9975-7382c46c1eb1"
      },
      "execution_count": 2,
      "outputs": [
        {
          "output_type": "stream",
          "name": "stdout",
          "text": [
            "Écrivez n'importe quoi et je vais été de la légion des français.\" (This paper was compiled by Martin Burcham, \"La Revolution de la République,\" pp. 37-41.)\n",
            "\n",
            "The French\n",
            "\n",
            "The first stage of this revolution had begun in the years preceding the 1763 French Revolution and the immediate aftermath of it had been the rise of the republics of the 17th and 18th centuries. The French Revolution became the focal point of the American revolution and the national consciousness for a half-century of the French Revolution (See also the entry of Napoleon III, \"The Right to Liberty\"). The French Revolution was the final step in the French-American system; it was the major event in American revolution history for at least four centuries.\n",
            "\n",
            "But, if we look at the history of American and French revolution, we can see that the French Revolution was not the only revolution in American history at all. There were other revolutions that went forward also. In fact,\n"
          ]
        }
      ]
    }
  ]
}